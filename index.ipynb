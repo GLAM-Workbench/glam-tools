{
 "cells": [
  {
   "cell_type": "markdown",
   "id": "0fc1dd1e",
   "metadata": {},
   "source": [
    "# Some tools for working with GLAM collections\n",
    "\n",
    "## CloudStor\n",
    "\n",
    "[CloudStor](https://support.aarnet.edu.au/hc/en-us/categories/200217608-CloudStor) is a data storage service provided by AARNet. Individual researchers in AARNet connected institutions get 1TB of storage space for free, and research projects can apply for additional space.\n",
    "\n",
    "A number of GLAM Workbench repositories use CloudStor to share harvested datasets. See, for example, [Trove journals](https://glam-workbench.net/trove-journals/), [Trove books](https://glam-workbench.net/trove-books/), and [Trove newspapers](https://glam-workbench.net/trove-newspapers/).\n",
    "\n",
    "You can easily share folders in CloudStor, but it's not always obvious how to access files within shared folders. These notebooks document some methods for accessing files in publicly-shared folders.\n",
    "\n",
    "* [Creating and sharing public links to nested resources in CloudStor](cloudstor-share-nested-links.ipynb)\n",
    "* [Cloudstor access to a public share via WebDAV](cloudstor-access-to-a-public-share-via-WebDAV.ipynb)"
   ]
  },
  {
   "cell_type": "markdown",
   "id": "d022e465",
   "metadata": {},
   "source": [
    "----\n",
    "\n",
    "This repository is part of the [GLAM Workbench](https://glam-workbench.github.io/).  \n",
    "If you think this project is worthwhile, you might like [to sponsor me on GitHub](https://github.com/sponsors/wragge?o=esb)."
   ]
  }
 ],
 "metadata": {
  "jupytext": {
   "cell_metadata_filter": "-all"
  },
  "kernelspec": {
   "display_name": "Python 3 (ipykernel)",
   "language": "python",
   "name": "python3"
  }
 },
 "nbformat": 4,
 "nbformat_minor": 5
}
