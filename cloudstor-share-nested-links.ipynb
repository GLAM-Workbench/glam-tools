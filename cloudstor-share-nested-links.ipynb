{
 "cells": [
  {
   "cell_type": "markdown",
   "id": "01d838f0-581d-4418-9489-b14d62e05bb0",
   "metadata": {},
   "source": [
    "# Creating and sharing public links to nested resources in CloudStor\n",
    "\n",
    "It's easy to create a public link to a file or folder in the CloudStor interface. But what if you have lots of files in nested folders that you want to make publicly accessible? Yes, you can share the parent folder, but how do you create direct public links to files and folders *inside* the parent folder without generating new share links for every resource.\n",
    "\n",
    "This notebook walks demonstrates how to create links to resources nested within a shared folder. The code cells run some simple tests to try and make sure that the example links go where they're supposed to."
   ]
  },
  {
   "cell_type": "code",
   "execution_count": 18,
   "id": "3567015f-4b63-4729-927e-09d41d58f3aa",
   "metadata": {},
   "outputs": [],
   "source": [
    "import re\n",
    "\n",
    "import requests"
   ]
  },
  {
   "cell_type": "markdown",
   "id": "ffcd1b1e-ca19-48ad-9181-e6a395697b77",
   "metadata": {},
   "source": [
    "This is a public link to a shared folder that contains the OCRd text of digitised journals from Trove:\n",
    "\n",
    "<https://cloudstor.aarnet.edu.au/plus/s/QOmnqpGQCNCSC2h>\n",
    "\n",
    "You can create these links within the CloudStor web interface by clicking on the 'share' icon."
   ]
  },
  {
   "cell_type": "code",
   "execution_count": 19,
   "id": "97aa6ee3-81b3-48b9-8808-60f18337a9d1",
   "metadata": {},
   "outputs": [],
   "source": [
    "# Test link\n",
    "response = requests.get(\"https://cloudstor.aarnet.edu.au/plus/s/QOmnqpGQCNCSC2h\")\n",
    "assert response.status_code == 200"
   ]
  },
  {
   "cell_type": "markdown",
   "id": "fe3c926a-1f1c-454d-bd6a-74da94714462",
   "metadata": {},
   "source": [
    "## Link to a child folder\n",
    "\n",
    "If we want to open a folder that is a child of the shared folder, we add a `path` parameter that points to the child folder, in this case `/angry-penguins-broadsheet-nla.obj-320790312`:\n",
    "\n",
    "<https://cloudstor.aarnet.edu.au/plus/s/QOmnqpGQCNCSC2h?path=/angry-penguins-broadsheet-nla.obj-320790312>"
   ]
  },
  {
   "cell_type": "code",
   "execution_count": 3,
   "id": "685386c8-f538-4242-81f8-d79e9fa568fd",
   "metadata": {},
   "outputs": [],
   "source": [
    "# Test link\n",
    "response = requests.get(\n",
    "    \"https://cloudstor.aarnet.edu.au/plus/s/QOmnqpGQCNCSC2h?path=/angry-penguins-broadsheet-nla.obj-320790312\"\n",
    ")\n",
    "assert response.status_code == 200"
   ]
  },
  {
   "cell_type": "markdown",
   "id": "576cc49a-9f8f-4d31-8d82-e63c6beb4981",
   "metadata": {},
   "source": [
    "## Download a child folder\n",
    "\n",
    "The link above opens the child folder within the CloudStor web interface. If we want to download a zipped version of the child folder, we just add `download` to the url:\n",
    "\n",
    "<https://cloudstor.aarnet.edu.au/plus/s/QOmnqpGQCNCSC2h/download?path=/angry-penguins-broadsheet-nla.obj-320790312>\n",
    "\n",
    "This should download a file named `angry-penguins-broadsheet-nla.obj-320790312.zip`."
   ]
  },
  {
   "cell_type": "code",
   "execution_count": 17,
   "id": "b7f23cfc-6570-4955-b791-efaa2b297e73",
   "metadata": {},
   "outputs": [],
   "source": [
    "# Test link\n",
    "response = requests.get(\n",
    "    \"https://cloudstor.aarnet.edu.au/plus/s/QOmnqpGQCNCSC2h/download?path=/angry-penguins-broadsheet-nla.obj-320790312\"\n",
    ")\n",
    "assert response.status_code == 200\n",
    "\n",
    "# The downloaded filename is in the response headers\n",
    "downloaded_file = re.search(\n",
    "    r'filename=\"(.+)\"', response.headers[\"content-disposition\"]\n",
    ").group(1)\n",
    "\n",
    "# Check that the downloaded filename is what we expect\n",
    "assert downloaded_file == \"angry-penguins-broadsheet-nla.obj-320790312.zip\""
   ]
  },
  {
   "cell_type": "markdown",
   "id": "ddca5f68-b9ff-4a86-be1e-79259bccec7f",
   "metadata": {},
   "source": [
    "## Link to the child of a child\n",
    "\n",
    "If we want to open a folder that is a child of a child we just extend the `path` value. This link goes to `angry-penguins-broadsheet-nla.obj-320790312/texts` in the parent folder:\n",
    "\n",
    "<https://cloudstor.aarnet.edu.au/plus/s/QOmnqpGQCNCSC2h?path=/angry-penguins-broadsheet-nla.obj-320790312/texts>"
   ]
  },
  {
   "cell_type": "code",
   "execution_count": 20,
   "id": "4cb2ef11-469a-4b47-bd5a-981ddd043ebf",
   "metadata": {},
   "outputs": [],
   "source": [
    "# Test link\n",
    "response = requests.get(\n",
    "    \"https://cloudstor.aarnet.edu.au/plus/s/QOmnqpGQCNCSC2h?path=/angry-penguins-broadsheet-nla.obj-320790312/texts\"\n",
    ")\n",
    "assert response.status_code == 200"
   ]
  },
  {
   "cell_type": "markdown",
   "id": "ca06274e-92e8-4157-9909-d190989bbd22",
   "metadata": {},
   "source": [
    "## Download a single file from a child folder\n",
    "\n",
    "If we want to download a single file in a child folder we can just add the filename to the path, in this case `nla.obj-320790312-issues.csv`.\n",
    "\n",
    "<https://cloudstor.aarnet.edu.au/plus/s/QOmnqpGQCNCSC2h/download?path=/angry-penguins-broadsheet-nla.obj-320790312/nla.obj-320790312-issues.csv>\n",
    "\n",
    "Alternatively, we can add the `files` parameter and set it to the name of the file:\n",
    "\n",
    "<https://cloudstor.aarnet.edu.au/plus/s/QOmnqpGQCNCSC2h/download?path=/angry-penguins-broadsheet-nla.obj-320790312&files=nla.obj-320790312-issues.csv>"
   ]
  },
  {
   "cell_type": "code",
   "execution_count": 21,
   "id": "e3c78fbe-e048-442e-90dc-922f43c0096d",
   "metadata": {},
   "outputs": [],
   "source": [
    "# Test link using path parameter\n",
    "response = requests.get(\n",
    "    \"https://cloudstor.aarnet.edu.au/plus/s/QOmnqpGQCNCSC2h/download?path=/angry-penguins-broadsheet-nla.obj-320790312/nla.obj-320790312-issues.csv\"\n",
    ")\n",
    "assert response.status_code == 200\n",
    "\n",
    "# The downloaded filename is in the response headers\n",
    "downloaded_file = re.search(\n",
    "    r'filename=\"(.+)\"', response.headers[\"content-disposition\"]\n",
    ").group(1)\n",
    "\n",
    "# Check that the downloaded filename is what we expect\n",
    "assert downloaded_file == \"nla.obj-320790312-issues.csv\""
   ]
  },
  {
   "cell_type": "code",
   "execution_count": 22,
   "id": "1cf36460-aa8c-4797-a798-d511cdfa43bb",
   "metadata": {},
   "outputs": [],
   "source": [
    "# Test link using files parameter\n",
    "response = requests.get(\n",
    "    \"https://cloudstor.aarnet.edu.au/plus/s/QOmnqpGQCNCSC2h/download?path=/angry-penguins-broadsheet-nla.obj-320790312&files=nla.obj-320790312-issues.csv\"\n",
    ")\n",
    "assert response.status_code == 200\n",
    "\n",
    "# The downloaded filename is in the response headers\n",
    "downloaded_file = re.search(\n",
    "    r'filename=\"(.+)\"', response.headers[\"content-disposition\"]\n",
    ").group(1)\n",
    "\n",
    "# Check that the downloaded filename is what we expect\n",
    "assert downloaded_file == \"nla.obj-320790312-issues.csv\""
   ]
  },
  {
   "cell_type": "markdown",
   "id": "2e151329-578f-4229-97c6-fff92a12689a",
   "metadata": {},
   "source": [
    "## Download a selection of files from a child folder\n",
    "\n",
    "If we want to download a selection of files from a folder rather than the whole folder, we can also use the `files` parameter. This link downloads two files from the `texts` folder, `angry-penguins-broadsheet-collection-no-1-nla.obj-320791009.txt` and `angry-penguins-broadsheet-collection-no-2-nla.obj-320791023.txt`, packaged as a single `zip` file. Note the use of `[]` with the `files` parameter to pass multiple values:\n",
    "\n",
    "<https://cloudstor.aarnet.edu.au/plus/s/QOmnqpGQCNCSC2h/download?path=/angry-penguins-broadsheet-nla.obj-320790312/texts&files[]=angry-penguins-broadsheet-collection-no-1-nla.obj-320791009.txt&files[]=angry-penguins-broadsheet-collection-no-2-nla.obj-320791023.txt>\n",
    "\n",
    "The files will be zipped up into a file with the name of their parent folder – so in this case the downloaded file will be named `texts.zip`."
   ]
  },
  {
   "cell_type": "code",
   "execution_count": 26,
   "id": "46ecab13-8f25-44a8-be2b-1f238c375035",
   "metadata": {},
   "outputs": [],
   "source": [
    "# Test link using files parameter\n",
    "response = requests.get(\n",
    "    \"https://cloudstor.aarnet.edu.au/plus/s/QOmnqpGQCNCSC2h/download?path=/angry-penguins-broadsheet-nla.obj-320790312/texts&files[]=angry-penguins-broadsheet-collection-no-1-nla.obj-320791009.txt&files[]=angry-penguins-broadsheet-collection-no-2-nla.obj-320791023.txt\"\n",
    ")\n",
    "assert response.status_code == 200\n",
    "\n",
    "# The downloaded filename is in the response headers\n",
    "downloaded_file = re.search(\n",
    "    r'filename=\"(.+)\"', response.headers[\"content-disposition\"]\n",
    ").group(1)\n",
    "\n",
    "# Check that the downloaded filename is what we expect\n",
    "assert downloaded_file == \"texts.zip\""
   ]
  },
  {
   "cell_type": "code",
   "execution_count": null,
   "id": "758d8c69-4d78-447f-8384-15beac06d5d7",
   "metadata": {},
   "outputs": [],
   "source": []
  }
 ],
 "metadata": {
  "kernelspec": {
   "display_name": "Python 3 (ipykernel)",
   "language": "python",
   "name": "python3"
  },
  "language_info": {
   "codemirror_mode": {
    "name": "ipython",
    "version": 3
   },
   "file_extension": ".py",
   "mimetype": "text/x-python",
   "name": "python",
   "nbconvert_exporter": "python",
   "pygments_lexer": "ipython3",
   "version": "3.8.12"
  }
 },
 "nbformat": 4,
 "nbformat_minor": 5
}
